{
 "cells": [
  {
   "cell_type": "code",
   "execution_count": 1,
   "metadata": {},
   "outputs": [
    {
     "name": "stdout",
     "output_type": "stream",
     "text": [
      "LiCoO2 theoretical gravimetric capacity: \n",
      "\n",
      "273.84 mAh/g\n"
     ]
    }
   ],
   "source": [
    "#Standard packages\n",
    "import numpy as np\n",
    "import pandas as pd\n",
    "import matplotlib.pyplot as plt\n",
    "from matplotlib.pyplot import figure\n",
    "\n",
    "\n",
    "#First, we calculate the theoretical capacity given a reaction \n",
    "# The reaction is LiCoO2 --> Li+ + e- + CoO2\n",
    "\n",
    "# 1. What are the molar masses of each element?\n",
    "#----------------------------------------------------------------\n",
    "Li = 6.941 #g\n",
    "Co = 58.933 #g\n",
    "O = 15.999 #g\n",
    "\n",
    "# 2. What is the molar mass of the entire lithiated material?\n",
    "#----------------------------------------------------------------\n",
    "LCO = Li + Co + 2*O  #molecular mass of LiCoO2 (LCO)\n",
    "\n",
    "# 3. Apply Faraday's Law to calculate the theoretical capacity:\n",
    "#----------------------------------------------------------------\n",
    "n = 1 #There is one e- in the reaction\n",
    "F = 96485 #C/mol\n",
    "\n",
    "Q_grav = (n*F/LCO)*(1/3600)*1000 #Faradays law equation, convert  C to mAh\n",
    "\n",
    "#Displaying answer\n",
    "print('LiCoO2 theoretical gravimetric capacity: \\n')\n",
    "print(str(round(Q_grav,2)) + ' mAh/g')\n",
    "\n"
   ]
  },
  {
   "cell_type": "code",
   "execution_count": 2,
   "metadata": {},
   "outputs": [
    {
     "name": "stdout",
     "output_type": "stream",
     "text": [
      "Li2S theoretical gravimetric capacity: \n",
      "\n",
      "1166.24 mAh/g\n"
     ]
    }
   ],
   "source": [
    "#Exercise 1: calculate the theoretical capacity of sulfur.\n",
    "# The reaction is S + 2Li+ + 2e- --> Li2S.\n",
    "\n",
    "# --------------- Your work here -------------\n",
    "S = 32.08 #g \n",
    "\n",
    "\n",
    "#Displaying answer\n",
    "print('Li2S theoretical gravimetric capacity: \\n')\n",
    "print(str(round(Q_grav,2)) + ' mAh/g')\n",
    "\n"
   ]
  },
  {
   "cell_type": "code",
   "execution_count": 3,
   "metadata": {},
   "outputs": [
    {
     "name": "stdout",
     "output_type": "stream",
     "text": [
      "Li2S theoretical gravimetric capacity, ignoring Li: \n",
      "\n",
      "1670.91 mAh/g\n"
     ]
    }
   ],
   "source": [
    "# What if you only consider the sulfur?\n",
    "Q_grav_lowball = (n*F/S)*(1/3600)*1000  \n",
    "\n",
    "print('Li2S theoretical gravimetric capacity, ignoring Li: \\n')\n",
    "print(str(round(Q_grav_lowball,2)) + ' mAh/g')\n",
    "\n",
    "# This is the number you will see quoted in reviews"
   ]
  },
  {
   "cell_type": "code",
   "execution_count": 4,
   "metadata": {},
   "outputs": [
    {
     "data": {
      "text/plain": [
       "(9, 9)"
      ]
     },
     "execution_count": 4,
     "metadata": {},
     "output_type": "execute_result"
    }
   ],
   "source": [
    "# Now we will work with some well-known Li-ion materials. \n",
    "# We will also learn a little bit about the pandas library of python.\n",
    "# Pandas is a database library often used in data science. \n",
    "df = pd.read_csv('activesDB.csv')\n",
    "df.shape"
   ]
  },
  {
   "cell_type": "code",
   "execution_count": 5,
   "metadata": {},
   "outputs": [
    {
     "data": {
      "text/plain": [
       "(10, 9)"
      ]
     },
     "execution_count": 5,
     "metadata": {},
     "output_type": "execute_result"
    }
   ],
   "source": [
    "#Exercise: add a row to the column - let's say sulfur\n",
    "newrow={'name': 'S', 'name_long':'sulfur','formula': 'S', 'type':'positive', \n",
    "        'cap':600,'V':2.15, 'n':2, 'density':1.96, 'theorycap':1671}\n",
    "#df.append(newrow, ignore_index = True)\n",
    "df.loc[len(df.index)] = newrow\n",
    "df.shape"
   ]
  },
  {
   "cell_type": "code",
   "execution_count": 6,
   "metadata": {},
   "outputs": [
    {
     "data": {
      "text/html": [
       "<div>\n",
       "<style scoped>\n",
       "    .dataframe tbody tr th:only-of-type {\n",
       "        vertical-align: middle;\n",
       "    }\n",
       "\n",
       "    .dataframe tbody tr th {\n",
       "        vertical-align: top;\n",
       "    }\n",
       "\n",
       "    .dataframe thead th {\n",
       "        text-align: right;\n",
       "    }\n",
       "</style>\n",
       "<table border=\"1\" class=\"dataframe\">\n",
       "  <thead>\n",
       "    <tr style=\"text-align: right;\">\n",
       "      <th></th>\n",
       "      <th>name</th>\n",
       "      <th>name_long</th>\n",
       "      <th>formula</th>\n",
       "      <th>type</th>\n",
       "      <th>cap</th>\n",
       "      <th>V</th>\n",
       "      <th>n</th>\n",
       "      <th>density</th>\n",
       "      <th>theorycap</th>\n",
       "    </tr>\n",
       "  </thead>\n",
       "  <tbody>\n",
       "    <tr>\n",
       "      <th>0</th>\n",
       "      <td>NCA</td>\n",
       "      <td>lithium nickel cobalt aluminium oxide</td>\n",
       "      <td>Li(Ni0.8Co0.15Al0.05)O2</td>\n",
       "      <td>positive</td>\n",
       "      <td>210</td>\n",
       "      <td>3.860</td>\n",
       "      <td>1</td>\n",
       "      <td>4.85</td>\n",
       "      <td>279</td>\n",
       "    </tr>\n",
       "    <tr>\n",
       "      <th>1</th>\n",
       "      <td>LCO</td>\n",
       "      <td>lithium cobalt oxide</td>\n",
       "      <td>LiCoO2</td>\n",
       "      <td>positive</td>\n",
       "      <td>165</td>\n",
       "      <td>3.860</td>\n",
       "      <td>1</td>\n",
       "      <td>5.10</td>\n",
       "      <td>274</td>\n",
       "    </tr>\n",
       "    <tr>\n",
       "      <th>2</th>\n",
       "      <td>LFP</td>\n",
       "      <td>lithium iron phosphate</td>\n",
       "      <td>LiFePO4</td>\n",
       "      <td>positive</td>\n",
       "      <td>160</td>\n",
       "      <td>3.375</td>\n",
       "      <td>1</td>\n",
       "      <td>3.60</td>\n",
       "      <td>170</td>\n",
       "    </tr>\n",
       "    <tr>\n",
       "      <th>3</th>\n",
       "      <td>NMC622</td>\n",
       "      <td>lithium nickel manganese cobalt oxide</td>\n",
       "      <td>Li(Ni0.6Mn0.2Co0.2)O2</td>\n",
       "      <td>positive</td>\n",
       "      <td>181</td>\n",
       "      <td>3.860</td>\n",
       "      <td>1</td>\n",
       "      <td>4.70</td>\n",
       "      <td>277</td>\n",
       "    </tr>\n",
       "    <tr>\n",
       "      <th>4</th>\n",
       "      <td>NMC811</td>\n",
       "      <td>lithium nickel manganese cobalt oxide</td>\n",
       "      <td>Li(Ni0.8Mn0.1Co0.1)O2</td>\n",
       "      <td>positive</td>\n",
       "      <td>195</td>\n",
       "      <td>3.860</td>\n",
       "      <td>1</td>\n",
       "      <td>4.70</td>\n",
       "      <td>276</td>\n",
       "    </tr>\n",
       "    <tr>\n",
       "      <th>9</th>\n",
       "      <td>S</td>\n",
       "      <td>sulfur</td>\n",
       "      <td>S</td>\n",
       "      <td>positive</td>\n",
       "      <td>600</td>\n",
       "      <td>2.150</td>\n",
       "      <td>2</td>\n",
       "      <td>1.96</td>\n",
       "      <td>1671</td>\n",
       "    </tr>\n",
       "  </tbody>\n",
       "</table>\n",
       "</div>"
      ],
      "text/plain": [
       "     name                              name_long                  formula  \\\n",
       "0     NCA  lithium nickel cobalt aluminium oxide  Li(Ni0.8Co0.15Al0.05)O2   \n",
       "1     LCO                   lithium cobalt oxide                   LiCoO2   \n",
       "2     LFP                 lithium iron phosphate                  LiFePO4   \n",
       "3  NMC622  lithium nickel manganese cobalt oxide    Li(Ni0.6Mn0.2Co0.2)O2   \n",
       "4  NMC811  lithium nickel manganese cobalt oxide    Li(Ni0.8Mn0.1Co0.1)O2   \n",
       "9       S                                 sulfur                        S   \n",
       "\n",
       "       type  cap      V  n  density  theorycap  \n",
       "0  positive  210  3.860  1     4.85        279  \n",
       "1  positive  165  3.860  1     5.10        274  \n",
       "2  positive  160  3.375  1     3.60        170  \n",
       "3  positive  181  3.860  1     4.70        277  \n",
       "4  positive  195  3.860  1     4.70        276  \n",
       "9  positive  600  2.150  2     1.96       1671  "
      ]
     },
     "execution_count": 6,
     "metadata": {},
     "output_type": "execute_result"
    }
   ],
   "source": [
    "# We can use some dataframe tools to sort and filter the database\n",
    "df[df.type=='positive']"
   ]
  },
  {
   "cell_type": "code",
   "execution_count": 7,
   "metadata": {},
   "outputs": [
    {
     "data": {
      "text/html": [
       "<div>\n",
       "<style scoped>\n",
       "    .dataframe tbody tr th:only-of-type {\n",
       "        vertical-align: middle;\n",
       "    }\n",
       "\n",
       "    .dataframe tbody tr th {\n",
       "        vertical-align: top;\n",
       "    }\n",
       "\n",
       "    .dataframe thead th {\n",
       "        text-align: right;\n",
       "    }\n",
       "</style>\n",
       "<table border=\"1\" class=\"dataframe\">\n",
       "  <thead>\n",
       "    <tr style=\"text-align: right;\">\n",
       "      <th></th>\n",
       "      <th>name</th>\n",
       "      <th>cap</th>\n",
       "      <th>theorycap</th>\n",
       "      <th>n</th>\n",
       "    </tr>\n",
       "  </thead>\n",
       "  <tbody>\n",
       "    <tr>\n",
       "      <th>0</th>\n",
       "      <td>NCA</td>\n",
       "      <td>210</td>\n",
       "      <td>279</td>\n",
       "      <td>1</td>\n",
       "    </tr>\n",
       "    <tr>\n",
       "      <th>1</th>\n",
       "      <td>LCO</td>\n",
       "      <td>165</td>\n",
       "      <td>274</td>\n",
       "      <td>1</td>\n",
       "    </tr>\n",
       "    <tr>\n",
       "      <th>2</th>\n",
       "      <td>LFP</td>\n",
       "      <td>160</td>\n",
       "      <td>170</td>\n",
       "      <td>1</td>\n",
       "    </tr>\n",
       "    <tr>\n",
       "      <th>3</th>\n",
       "      <td>NMC622</td>\n",
       "      <td>181</td>\n",
       "      <td>277</td>\n",
       "      <td>1</td>\n",
       "    </tr>\n",
       "    <tr>\n",
       "      <th>4</th>\n",
       "      <td>NMC811</td>\n",
       "      <td>195</td>\n",
       "      <td>276</td>\n",
       "      <td>1</td>\n",
       "    </tr>\n",
       "    <tr>\n",
       "      <th>5</th>\n",
       "      <td>LTO</td>\n",
       "      <td>167</td>\n",
       "      <td>186</td>\n",
       "      <td>3</td>\n",
       "    </tr>\n",
       "    <tr>\n",
       "      <th>6</th>\n",
       "      <td>Gr</td>\n",
       "      <td>344</td>\n",
       "      <td>372</td>\n",
       "      <td>1</td>\n",
       "    </tr>\n",
       "    <tr>\n",
       "      <th>7</th>\n",
       "      <td>Li</td>\n",
       "      <td>3861</td>\n",
       "      <td>3861</td>\n",
       "      <td>1</td>\n",
       "    </tr>\n",
       "    <tr>\n",
       "      <th>8</th>\n",
       "      <td>Si</td>\n",
       "      <td>2200</td>\n",
       "      <td>3817</td>\n",
       "      <td>4</td>\n",
       "    </tr>\n",
       "    <tr>\n",
       "      <th>9</th>\n",
       "      <td>S</td>\n",
       "      <td>600</td>\n",
       "      <td>1671</td>\n",
       "      <td>2</td>\n",
       "    </tr>\n",
       "  </tbody>\n",
       "</table>\n",
       "</div>"
      ],
      "text/plain": [
       "     name   cap  theorycap  n\n",
       "0     NCA   210        279  1\n",
       "1     LCO   165        274  1\n",
       "2     LFP   160        170  1\n",
       "3  NMC622   181        277  1\n",
       "4  NMC811   195        276  1\n",
       "5     LTO   167        186  3\n",
       "6      Gr   344        372  1\n",
       "7      Li  3861       3861  1\n",
       "8      Si  2200       3817  4\n",
       "9       S   600       1671  2"
      ]
     },
     "execution_count": 7,
     "metadata": {},
     "output_type": "execute_result"
    }
   ],
   "source": [
    "# We can copy over select columns into a new database for comparing theoretical and reversible capacities.\n",
    "compdf = df[['name','cap','theorycap','n']]\n",
    "compdf"
   ]
  },
  {
   "cell_type": "code",
   "execution_count": 8,
   "metadata": {},
   "outputs": [
    {
     "name": "stderr",
     "output_type": "stream",
     "text": [
      "<ipython-input-8-ad6937a53551>:1: SettingWithCopyWarning: \n",
      "A value is trying to be set on a copy of a slice from a DataFrame.\n",
      "Try using .loc[row_indexer,col_indexer] = value instead\n",
      "\n",
      "See the caveats in the documentation: https://pandas.pydata.org/pandas-docs/stable/user_guide/indexing.html#returning-a-view-versus-a-copy\n",
      "  compdf['ratio'] = compdf['cap']/compdf['theorycap']\n"
     ]
    },
    {
     "data": {
      "text/html": [
       "<div>\n",
       "<style scoped>\n",
       "    .dataframe tbody tr th:only-of-type {\n",
       "        vertical-align: middle;\n",
       "    }\n",
       "\n",
       "    .dataframe tbody tr th {\n",
       "        vertical-align: top;\n",
       "    }\n",
       "\n",
       "    .dataframe thead th {\n",
       "        text-align: right;\n",
       "    }\n",
       "</style>\n",
       "<table border=\"1\" class=\"dataframe\">\n",
       "  <thead>\n",
       "    <tr style=\"text-align: right;\">\n",
       "      <th></th>\n",
       "      <th>name</th>\n",
       "      <th>cap</th>\n",
       "      <th>theorycap</th>\n",
       "      <th>n</th>\n",
       "      <th>ratio</th>\n",
       "    </tr>\n",
       "  </thead>\n",
       "  <tbody>\n",
       "    <tr>\n",
       "      <th>0</th>\n",
       "      <td>NCA</td>\n",
       "      <td>210</td>\n",
       "      <td>279</td>\n",
       "      <td>1</td>\n",
       "      <td>0.752688</td>\n",
       "    </tr>\n",
       "    <tr>\n",
       "      <th>1</th>\n",
       "      <td>LCO</td>\n",
       "      <td>165</td>\n",
       "      <td>274</td>\n",
       "      <td>1</td>\n",
       "      <td>0.602190</td>\n",
       "    </tr>\n",
       "    <tr>\n",
       "      <th>2</th>\n",
       "      <td>LFP</td>\n",
       "      <td>160</td>\n",
       "      <td>170</td>\n",
       "      <td>1</td>\n",
       "      <td>0.941176</td>\n",
       "    </tr>\n",
       "    <tr>\n",
       "      <th>3</th>\n",
       "      <td>NMC622</td>\n",
       "      <td>181</td>\n",
       "      <td>277</td>\n",
       "      <td>1</td>\n",
       "      <td>0.653430</td>\n",
       "    </tr>\n",
       "    <tr>\n",
       "      <th>4</th>\n",
       "      <td>NMC811</td>\n",
       "      <td>195</td>\n",
       "      <td>276</td>\n",
       "      <td>1</td>\n",
       "      <td>0.706522</td>\n",
       "    </tr>\n",
       "    <tr>\n",
       "      <th>5</th>\n",
       "      <td>LTO</td>\n",
       "      <td>167</td>\n",
       "      <td>186</td>\n",
       "      <td>3</td>\n",
       "      <td>0.897849</td>\n",
       "    </tr>\n",
       "    <tr>\n",
       "      <th>6</th>\n",
       "      <td>Gr</td>\n",
       "      <td>344</td>\n",
       "      <td>372</td>\n",
       "      <td>1</td>\n",
       "      <td>0.924731</td>\n",
       "    </tr>\n",
       "    <tr>\n",
       "      <th>7</th>\n",
       "      <td>Li</td>\n",
       "      <td>3861</td>\n",
       "      <td>3861</td>\n",
       "      <td>1</td>\n",
       "      <td>1.000000</td>\n",
       "    </tr>\n",
       "    <tr>\n",
       "      <th>8</th>\n",
       "      <td>Si</td>\n",
       "      <td>2200</td>\n",
       "      <td>3817</td>\n",
       "      <td>4</td>\n",
       "      <td>0.576369</td>\n",
       "    </tr>\n",
       "    <tr>\n",
       "      <th>9</th>\n",
       "      <td>S</td>\n",
       "      <td>600</td>\n",
       "      <td>1671</td>\n",
       "      <td>2</td>\n",
       "      <td>0.359066</td>\n",
       "    </tr>\n",
       "  </tbody>\n",
       "</table>\n",
       "</div>"
      ],
      "text/plain": [
       "     name   cap  theorycap  n     ratio\n",
       "0     NCA   210        279  1  0.752688\n",
       "1     LCO   165        274  1  0.602190\n",
       "2     LFP   160        170  1  0.941176\n",
       "3  NMC622   181        277  1  0.653430\n",
       "4  NMC811   195        276  1  0.706522\n",
       "5     LTO   167        186  3  0.897849\n",
       "6      Gr   344        372  1  0.924731\n",
       "7      Li  3861       3861  1  1.000000\n",
       "8      Si  2200       3817  4  0.576369\n",
       "9       S   600       1671  2  0.359066"
      ]
     },
     "execution_count": 8,
     "metadata": {},
     "output_type": "execute_result"
    }
   ],
   "source": [
    "compdf['ratio'] = compdf['cap']/compdf['theorycap']\n",
    "compdf"
   ]
  },
  {
   "cell_type": "code",
   "execution_count": 9,
   "metadata": {},
   "outputs": [
    {
     "data": {
      "text/plain": [
       "[<matplotlib.lines.Line2D at 0x262b5ee4d00>]"
      ]
     },
     "execution_count": 9,
     "metadata": {},
     "output_type": "execute_result"
    },
    {
     "data": {
      "image/png": "[encoded data removed]",
      "text/plain": [
       "<Figure size 432x288 with 1 Axes>"
      ]
     },
     "metadata": {
      "needs_background": "light"
     },
     "output_type": "display_data"
    }
   ],
   "source": [
    "plt.plot(compdf['theorycap'],compdf['ratio'],'o')"
   ]
  },
  {
   "cell_type": "code",
   "execution_count": 10,
   "metadata": {},
   "outputs": [
    {
     "name": "stderr",
     "output_type": "stream",
     "text": [
      "<ipython-input-10-6596c53cf04f>:13: SettingWithCopyWarning: \n",
      "A value is trying to be set on a copy of a slice from a DataFrame.\n",
      "Try using .loc[row_indexer,col_indexer] = value instead\n",
      "\n",
      "See the caveats in the documentation: https://pandas.pydata.org/pandas-docs/stable/user_guide/indexing.html#returning-a-view-versus-a-copy\n",
      "  compdf['xmax'] = compdf['n']*compdf['ratio']\n",
      "<ipython-input-10-6596c53cf04f>:14: SettingWithCopyWarning: \n",
      "A value is trying to be set on a copy of a slice from a DataFrame.\n",
      "Try using .loc[row_indexer,col_indexer] = value instead\n",
      "\n",
      "See the caveats in the documentation: https://pandas.pydata.org/pandas-docs/stable/user_guide/indexing.html#returning-a-view-versus-a-copy\n",
      "  compdf['ymin'] = (1-compdf['n']*compdf['ratio'])\n"
     ]
    },
    {
     "data": {
      "text/html": [
       "<div>\n",
       "<style scoped>\n",
       "    .dataframe tbody tr th:only-of-type {\n",
       "        vertical-align: middle;\n",
       "    }\n",
       "\n",
       "    .dataframe tbody tr th {\n",
       "        vertical-align: top;\n",
       "    }\n",
       "\n",
       "    .dataframe thead th {\n",
       "        text-align: right;\n",
       "    }\n",
       "</style>\n",
       "<table border=\"1\" class=\"dataframe\">\n",
       "  <thead>\n",
       "    <tr style=\"text-align: right;\">\n",
       "      <th></th>\n",
       "      <th>name</th>\n",
       "      <th>cap</th>\n",
       "      <th>theorycap</th>\n",
       "      <th>n</th>\n",
       "      <th>ratio</th>\n",
       "      <th>xmax</th>\n",
       "      <th>ymin</th>\n",
       "    </tr>\n",
       "  </thead>\n",
       "  <tbody>\n",
       "    <tr>\n",
       "      <th>0</th>\n",
       "      <td>NCA</td>\n",
       "      <td>210</td>\n",
       "      <td>279</td>\n",
       "      <td>1</td>\n",
       "      <td>0.752688</td>\n",
       "      <td>0.752688</td>\n",
       "      <td>0.247312</td>\n",
       "    </tr>\n",
       "    <tr>\n",
       "      <th>1</th>\n",
       "      <td>LCO</td>\n",
       "      <td>165</td>\n",
       "      <td>274</td>\n",
       "      <td>1</td>\n",
       "      <td>0.602190</td>\n",
       "      <td>0.602190</td>\n",
       "      <td>0.397810</td>\n",
       "    </tr>\n",
       "    <tr>\n",
       "      <th>2</th>\n",
       "      <td>LFP</td>\n",
       "      <td>160</td>\n",
       "      <td>170</td>\n",
       "      <td>1</td>\n",
       "      <td>0.941176</td>\n",
       "      <td>0.941176</td>\n",
       "      <td>0.058824</td>\n",
       "    </tr>\n",
       "    <tr>\n",
       "      <th>3</th>\n",
       "      <td>NMC622</td>\n",
       "      <td>181</td>\n",
       "      <td>277</td>\n",
       "      <td>1</td>\n",
       "      <td>0.653430</td>\n",
       "      <td>0.653430</td>\n",
       "      <td>0.346570</td>\n",
       "    </tr>\n",
       "    <tr>\n",
       "      <th>4</th>\n",
       "      <td>NMC811</td>\n",
       "      <td>195</td>\n",
       "      <td>276</td>\n",
       "      <td>1</td>\n",
       "      <td>0.706522</td>\n",
       "      <td>0.706522</td>\n",
       "      <td>0.293478</td>\n",
       "    </tr>\n",
       "    <tr>\n",
       "      <th>5</th>\n",
       "      <td>LTO</td>\n",
       "      <td>167</td>\n",
       "      <td>186</td>\n",
       "      <td>3</td>\n",
       "      <td>0.897849</td>\n",
       "      <td>2.693548</td>\n",
       "      <td>-1.693548</td>\n",
       "    </tr>\n",
       "    <tr>\n",
       "      <th>6</th>\n",
       "      <td>Gr</td>\n",
       "      <td>344</td>\n",
       "      <td>372</td>\n",
       "      <td>1</td>\n",
       "      <td>0.924731</td>\n",
       "      <td>0.924731</td>\n",
       "      <td>0.075269</td>\n",
       "    </tr>\n",
       "    <tr>\n",
       "      <th>7</th>\n",
       "      <td>Li</td>\n",
       "      <td>3861</td>\n",
       "      <td>3861</td>\n",
       "      <td>1</td>\n",
       "      <td>1.000000</td>\n",
       "      <td>1.000000</td>\n",
       "      <td>0.000000</td>\n",
       "    </tr>\n",
       "    <tr>\n",
       "      <th>8</th>\n",
       "      <td>Si</td>\n",
       "      <td>2200</td>\n",
       "      <td>3817</td>\n",
       "      <td>4</td>\n",
       "      <td>0.576369</td>\n",
       "      <td>2.305476</td>\n",
       "      <td>-1.305476</td>\n",
       "    </tr>\n",
       "    <tr>\n",
       "      <th>9</th>\n",
       "      <td>S</td>\n",
       "      <td>600</td>\n",
       "      <td>1671</td>\n",
       "      <td>2</td>\n",
       "      <td>0.359066</td>\n",
       "      <td>0.718133</td>\n",
       "      <td>0.281867</td>\n",
       "    </tr>\n",
       "  </tbody>\n",
       "</table>\n",
       "</div>"
      ],
      "text/plain": [
       "     name   cap  theorycap  n     ratio      xmax      ymin\n",
       "0     NCA   210        279  1  0.752688  0.752688  0.247312\n",
       "1     LCO   165        274  1  0.602190  0.602190  0.397810\n",
       "2     LFP   160        170  1  0.941176  0.941176  0.058824\n",
       "3  NMC622   181        277  1  0.653430  0.653430  0.346570\n",
       "4  NMC811   195        276  1  0.706522  0.706522  0.293478\n",
       "5     LTO   167        186  3  0.897849  2.693548 -1.693548\n",
       "6      Gr   344        372  1  0.924731  0.924731  0.075269\n",
       "7      Li  3861       3861  1  1.000000  1.000000  0.000000\n",
       "8      Si  2200       3817  4  0.576369  2.305476 -1.305476\n",
       "9       S   600       1671  2  0.359066  0.718133  0.281867"
      ]
     },
     "execution_count": 10,
     "metadata": {},
     "output_type": "execute_result"
    }
   ],
   "source": [
    "# Now we want to use the ratio of theoretical and reversible capacity to calculate x and y.\n",
    "# x and y represent the reaction stoichiometry of Li present in the active mat.\n",
    "# x and y are two of the variables calculated by  Pybamm simulations.\n",
    "# In the negative electrode), we use x to represent the reacted stoichiometry of Li. \n",
    "# Negatives start out delithiated (x = 0). Therefore xmax = n*ratio.\n",
    "# In the positive electrode), we use y.\n",
    "# Positives start out lithiated (y=n). Therefore ymax = n and ymin = n*(1-ratio)\n",
    "# It's important to recognize that we can't take all the Li out of cathodes. \n",
    "# This is why ymin almost never goes to zero.\n",
    "\n",
    "# Need to figure out the datafram logic here to fill irrelevant cells w NaN\n",
    "# for length of df, if type ==negative, xmax. ymax=NaN. else ymax, xmax=NaN (default positive). \n",
    "compdf['xmax'] = compdf['n']*compdf['ratio']\n",
    "compdf['ymin'] = (1-compdf['n']*compdf['ratio'])\n",
    "compdf"
   ]
  },
  {
   "cell_type": "code",
   "execution_count": 11,
   "metadata": {},
   "outputs": [
    {
     "data": {
      "text/plain": [
       "167"
      ]
     },
     "execution_count": 11,
     "metadata": {},
     "output_type": "execute_result"
    }
   ],
   "source": [
    "# Now learn some syntax\n",
    "df.loc[df['name']=='LTO']['cap'].values[0]\n",
    "# the .loc function returns a df of the whole row. the ['cap'] calls the row index and column with label and dtype. \n",
    "# .values keeps only the cell value and dtype, not the row index. [0] keeps only the value.  \n"
   ]
  },
  {
   "cell_type": "code",
   "execution_count": 12,
   "metadata": {},
   "outputs": [],
   "source": [
    "# Now it's time to go from the material level to the cell-stack level. \n",
    "# First, we have to consider the active-material only Li balance.\n",
    "# This is the best-case perfect impossible scenario, with zero electrolyte or packaging.\n",
    "\n",
    "def masscap_actives(posmat,negmat):\n",
    "    # Lookup the reversible/theoretical capacity values\n",
    "    revcap_pos=df.loc[df['name']==posmat]['cap'].values[0]\n",
    "    revcap_neg=df.loc[df['name']==negmat]['cap'].values[0]\n",
    "\n",
    "    # For 1g basis, we have revcap_cath mAh of charge, say 170 mAh\n",
    "    mass_neg = revcap_pos/revcap_neg  # 170 mAh/(360 mAh/g) = g\n",
    "    total_mass = 1 + mass_neg\n",
    "    return revcap_pos/total_mass\n"
   ]
  },
  {
   "cell_type": "code",
   "execution_count": 13,
   "metadata": {},
   "outputs": [
    {
     "name": "stdout",
     "output_type": "stream",
     "text": [
      "NCA/graphite: 130.4 mAh/g\n",
      "NCA/Li: 199.17 mAh/g\n",
      "Sulfur/graphite: 218.64 mAh/g\n",
      "Sulfur/Li: 519.3 mAh/g\n"
     ]
    }
   ],
   "source": [
    "#Exercise: What is the active-material only gravimetric capacity of the followng?\n",
    "\n",
    "# Will have to redo this with string arguments instead of values\n",
    "# Note that this is reversible capacity, not theoretical capacity. \n",
    "\n",
    "# a: NCA positive / graphite negative (the chemistry in Tesla cars)\n",
    "print(\"NCA/graphite: \"+str(round(masscap_actives('NCA','Gr'),2)) +' mAh/g')\n",
    "# b: NCA positive / Li negative\n",
    "print(\"NCA/Li: \"+str(round(masscap_actives('NCA','Li'),2)) +' mAh/g')\n",
    "\n",
    "# c: Sulfur positive / graphite negative\n",
    "print(\"Sulfur/graphite: \"+str(round(masscap_actives('S','Gr'),2)) +' mAh/g')\n",
    "\n",
    "# d: Sulfur positive / Li negative\n",
    "print(\"Sulfur/Li: \"+str(round(masscap_actives('S','Li'),2)) +' mAh/g')\n"
   ]
  },
  {
   "cell_type": "code",
   "execution_count": 14,
   "metadata": {},
   "outputs": [
    {
     "data": {
      "text/plain": [
       "1116.4963012777405"
      ]
     },
     "execution_count": 14,
     "metadata": {},
     "output_type": "execute_result"
    }
   ],
   "source": [
    "# Next exercise: use difference between negative/positive voltages to calculate energy.\n",
    "\n",
    "def energy_actives(posmat,negmat):\n",
    "    V_pos=df.loc[df['name']==posmat]['V'].values[0]\n",
    "    V_neg=df.loc[df['name']==negmat]['V'].values[0]\n",
    "    # Cell V =  Vpos - Vneg. Capacity in mAh/g. 1 A*V = 1W so mAh*V = mW \n",
    "    energy = (V_pos-V_neg)*masscap_actives(posmat,negmat) #mWh/g -> Wh/kg\n",
    "    return energy\n",
    "\n",
    "energy_actives('S','Li')\n",
    "# a: NCA positive / graphite negative (the chemistry in Tesla cars) \n",
    "# b: NCA positive / Li negative \n",
    "# c: Sulfur positive / graphite negative \n",
    "# d: Sulfur positive / Li negative "
   ]
  },
  {
   "cell_type": "code",
   "execution_count": 15,
   "metadata": {},
   "outputs": [],
   "source": [
    "# Now we need to consider the other components in the cell stack.\n",
    "# Because of the inactive layers (CC, sep) a thicker electrode is more economic.\n",
    "# We are basing our model on Obrovac et al.\n",
    "# BotB does a nice job explaining as well; you are encouraged to explore their\n",
    "# more advanced functions which include automatic conversion between \n",
    "# mass loading, area loading, and thickness\n",
    "\n",
    "# First, we set the porosity of the anode and positive. \n",
    "# The electrodes need void fraction (porosity) to let Li+ ions move around in liquid phase.\n",
    "# We use the symbol epsilon for porosity\n",
    "\n",
    "eps_pos = 0.2\n",
    "\n",
    "# We also want the mass fraction of active material. \n",
    "# An optimized industrial electrode may include 98% active material.\n",
    "# We will assume that the inactive components are equal fractions carbon/binder.\n",
    "active_mf_pos = 0.98\n",
    "binder_mf_pos, carbon_mf_pos = (1-active_mf_pos)/2, (1-active_mf_pos)/2\n",
    "\n",
    "# For this exercise, we will assume the positive/negative have the same formulatino.\n",
    "eps_neg, active_mf_neg, binder_mf_neg, carbon_mf_neg = eps_pos, active_mf_pos, binder_mf_pos, carbon_mf_pos \n",
    "\n",
    "# Now the densities of the carbon and binder - database lookup later\n",
    "binder_density = 1.78 # g/cm3 if PVDF\n",
    "carbon_density = 1.8 # g/cm3 if carbon black"
   ]
  },
  {
   "cell_type": "code",
   "execution_count": 27,
   "metadata": {},
   "outputs": [
    {
     "name": "stdout",
     "output_type": "stream",
     "text": [
      "avg vol 0.21323538875374856\n",
      "avg dens 4.788799999999999\n",
      "Vol fracs of active/binder/carbon: 0.758/0.021/0.021\n",
      "Vol frac of electrolyte:  0.2\n",
      "avg vol 0.4486735330836454\n",
      "avg dens 2.231\n",
      "Vol fracs of active/binder/carbon: 0.78/0.01/0.01\n",
      "Vol frac of electrolyte:  0.2\n"
     ]
    }
   ],
   "source": [
    "# Overall flow: find effective mAh/cm3 of cathode given formulation/eps\n",
    "# match thickness of anode, considering eps_neg, thick_pos, vcap_pos\n",
    "# calculate gravimetric and volumetric cap of sandwich\n",
    "\n",
    "# First, we need to compute the effective mAh/cm3 of the positive electrode.\n",
    "# We could use negative electrode as basis, but positive is more common.\n",
    "\n",
    "def vol_fracs(material,active_mf, binder_mf, carbon_mf,porosity):\n",
    "    # Lookup rev cap, density\n",
    "    revcap=df.loc[df['name']==material]['cap'].values[0]\n",
    "    active_density=df.loc[df['name']==material]['density'].values[0]\n",
    "    \n",
    "    # Check this formula - is it correct?\n",
    "    avg_vol = active_mf/active_density + binder_mf/binder_density + carbon_mf/carbon_density \n",
    "    print('avg vol',avg_vol)\n",
    "    avg_dens =  active_mf*active_density + binder_mf*binder_density + carbon_mf*carbon_density\n",
    "    print('avg dens',avg_dens)\n",
    "    active_vf = (1-porosity)*(active_mf/active_density)/avg_vol\n",
    "    binder_vf = (1-porosity)*(binder_mf/binder_density)/avg_vol # don't actually need\n",
    "    carbon_vf = (1-porosity)*(carbon_mf/carbon_density)/avg_vol # don't actually need\n",
    "    \n",
    "    vol_cap = active_vf*revcap*active_density # cm3/cm3 * mAh/g * g/cm3 = mAh/cm3\n",
    "    \n",
    "    print('Vol fracs of active/binder/carbon: '+str(round(active_vf,3)) + '/'+\n",
    "          str(round(binder_vf,3))+'/'+str(round(carbon_vf,3)))\n",
    "    print('Vol frac of electrolyte: ',porosity)\n",
    "    return vol_cap, avg_dens\n",
    "\n",
    "vcap_pos, dens_pos = vol_fracs('NCA',active_mf_pos, binder_mf_pos, carbon_mf_pos,eps_pos)  # make this a lookup\n",
    "vcap_neg, dens_neg = vol_fracs('Gr',active_mf_neg, binder_mf_neg, carbon_mf_neg,eps_neg)  # make this a lookup"
   ]
  },
  {
   "cell_type": "code",
   "execution_count": 32,
   "metadata": {},
   "outputs": [
    {
     "name": "stdout",
     "output_type": "stream",
     "text": [
      "negative thickness: 84.77659257986848 um\n",
      "total thickness: 357.55318515973687  um\n",
      "129.56469419894285 mAh/cm3\n",
      "total mass: 0.12185819205297099  g/cm2\n",
      "38.0165406318695 mAh/g of stack\n"
     ]
    }
   ],
   "source": [
    "# Next, we are going to balance the negative and positive electrodes\n",
    "# Batteries include an excess ratio of negative material to avoid Li plating\n",
    "# This could be anywhere from 5 to 15% \n",
    "NP=1.1  # 10% excess\n",
    "w_pos = 60 # positive electrode thickness in um. 1 um = 0.0001 cm\n",
    "w_pos = w_pos*(1e-4)\n",
    "\n",
    "def match_wneg(w_pos,NP,vc_pos,vc_neg):\n",
    "    total_cap = w_pos*vc_pos  #cm * mAh/cm3 = mAh/cm2\n",
    "    w_neg = total_cap/vc_neg*NP # mAh/cm2/(mAh/cm3)* ratio = cm\n",
    "    return w_neg\n",
    "w_neg= match_wneg(w_pos,NP,vcap_pos,vcap_neg)\n",
    "print('negative thickness:',w_neg*1e4,'um')\n",
    "\n",
    "# Finally calculate the total gravimetric/volumetric cap of the cell stack.\n",
    "w_sep, w_ccp, w_ccn = 20/1e4, 16/1e4, 12/1e4 # microns -> cm\n",
    "eps_sep = 0.35\n",
    "\n",
    "def total_vcap(w_pos,w_neg):\n",
    "    totalw= 2*(w_pos+w_neg+w_sep) + w_ccn + w_ccp  # in cm\n",
    "    print('total thickness:',totalw*1e4,' um')\n",
    "    return w_pos*vcap_pos/totalw\n",
    "\n",
    "\n",
    "def total_gcap(w_pos,w_neg):\n",
    "    elyte_dens = 1.2 #g/cm3\n",
    "    al_dens = 2.24 #g/cm3\n",
    "    cu_dens = 8.96 #g/cm3\n",
    "    sep_dens = 0.9 # g/cm3\n",
    "    \n",
    "    elyte = (w_pos*eps_pos+w_neg*eps_neg+w_sep*eps_sep)*elyte_dens #g/cm2\n",
    "    \n",
    "    totalmass= 2*(w_pos*dens_pos+w_neg*dens_neg+w_sep*sep_dens+elyte) + w_ccn*cu_dens + w_ccp*al_dens  # g/cm2\n",
    "    print('total mass:',totalmass,' g/cm2')\n",
    "    return w_pos*vcap_pos/totalmass\n",
    "\n",
    "\n",
    "print(total_vcap(w_pos,w_neg), 'mAh/cm3')\n",
    "print(total_gcap(w_pos,w_neg),'mAh/g of stack')\n",
    "#def cell_stack_cap():\n",
    "    # copper is universal negative CC; 8 um thick, 8.96 g/cm3\n",
    "    # Al is universal positive CC; 15 um thick, 2.24 g/cm3\n",
    "    # separator is 16 um thick, porosity of 0.35, 0.9 g/cm3\n",
    "    # electrolyte is 1.2 g/cm3, takes up void volume in composites and sep\n",
    "\n",
    "    "
   ]
  },
  {
   "cell_type": "code",
   "execution_count": 34,
   "metadata": {},
   "outputs": [
    {
     "data": {
      "text/plain": [
       "140.22"
      ]
     },
     "execution_count": 34,
     "metadata": {},
     "output_type": "execute_result"
    }
   ],
   "source": [
    "# Still to do - write a loop that plots the energy density of various chemistries as a function of cathode thickness.\n",
    "# The lesson you are supposed to learn is that thicker electrodes improve energy density and that making a thicker \n",
    "# positive eletrode could be more feasible than implementing some crazy new chemistry. \n",
    "\n",
    "# To make this happen, might need to restructure  the functions. Definitely need to call them again.  "
   ]
  }
 ],
 "metadata": {
  "kernelspec": {
   "display_name": "Python 3",
   "language": "python",
   "name": "python3"
  },
  "language_info": {
   "codemirror_mode": {
    "name": "ipython",
    "version": 3
   },
   "file_extension": ".py",
   "mimetype": "text/x-python",
   "name": "python",
   "nbconvert_exporter": "python",
   "pygments_lexer": "ipython3",
   "version": "3.8.5"
  }
 },
 "nbformat": 4,
 "nbformat_minor": 4
}
